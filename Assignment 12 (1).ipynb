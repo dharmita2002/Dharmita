{
 "cells": [
  {
   "cell_type": "code",
   "execution_count": 1,
   "metadata": {},
   "outputs": [
    {
     "name": "stdout",
     "output_type": "stream",
     "text": [
      "66\n"
     ]
    }
   ],
   "source": [
    "a = 66\n",
    "b = 88\n",
    "a < b\n",
    "if True: \n",
    "    print(a)\n",
    "else:\n",
    "    print(b)"
   ]
  },
  {
   "cell_type": "code",
   "execution_count": 3,
   "metadata": {
    "scrolled": true
   },
   "outputs": [
    {
     "ename": "SyntaxError",
     "evalue": "invalid syntax (<ipython-input-3-d4e5c3a6134f>, line 3)",
     "output_type": "error",
     "traceback": [
      "\u001b[1;36m  File \u001b[1;32m\"<ipython-input-3-d4e5c3a6134f>\"\u001b[1;36m, line \u001b[1;32m3\u001b[0m\n\u001b[1;33m    if name='Pooja':\u001b[0m\n\u001b[1;37m           ^\u001b[0m\n\u001b[1;31mSyntaxError\u001b[0m\u001b[1;31m:\u001b[0m invalid syntax\n"
     ]
    }
   ],
   "source": [
    "name='Dharmita'\n",
    "\n",
    "if name='Pooja':\n",
    "  print(\"not my name\")\n",
    "elif='dharmita':\n",
    "  print(\"My name\")\n",
    "else:\n",
    "    print(\"Whats my name\")"
   ]
  },
  {
   "cell_type": "code",
   "execution_count": 5,
   "metadata": {},
   "outputs": [
    {
     "name": "stdout",
     "output_type": "stream",
     "text": [
      "Welcome, what's your name?\n"
     ]
    }
   ],
   "source": [
    "person = 'Maya'\n",
    "\n",
    "if person == 'Mini':\n",
    "    print('Welcome Mini!')\n",
    "else:\n",
    "    print(\"Welcome, what's your name?\")"
   ]
  },
  {
   "cell_type": "code",
   "execution_count": 6,
   "metadata": {},
   "outputs": [
    {
     "name": "stdout",
     "output_type": "stream",
     "text": [
      "Welcome Pratik!\n"
     ]
    }
   ],
   "source": [
    "person = 'Pratik'\n",
    "\n",
    "if person == 'Manu':\n",
    "    print('Welcome manish!')\n",
    "elif person =='Pratik':\n",
    "    print('Welcome Pratik!')\n",
    "else:\n",
    "    print(\"Welcome, what's your name?\")"
   ]
  },
  {
   "cell_type": "code",
   "execution_count": 8,
   "metadata": {},
   "outputs": [
    {
     "name": "stdout",
     "output_type": "stream",
     "text": [
      "True\n",
      "The triangle is formed\n",
      "Scalene triangle\n",
      "6.0\n"
     ]
    }
   ],
   "source": [
    "a = 4\n",
    "b = 3\n",
    "c = 5\n",
    "print(a*a + b*b == c*c)\n",
    "if True:\n",
    "    print(\"The triangle is formed\")\n",
    "else:\n",
    "    print(\"The triangle is not formed\")  \n",
    "    \n",
    "if a==b==c:\n",
    "    print(\"Equilateral triangle\")\n",
    "elif a==b and b==c:\n",
    "    print(\"Isoceles triangle\")\n",
    "else:\n",
    "    print(\"Scalene triangle\")\n",
    "\n",
    "Area = 0.5 * b * a\n",
    "print(Area)"
   ]
  }
 ],
 "metadata": {
  "kernelspec": {
   "display_name": "Python 3",
   "language": "python",
   "name": "python3"
  },
  "language_info": {
   "codemirror_mode": {
    "name": "ipython",
    "version": 3
   },
   "file_extension": ".py",
   "mimetype": "text/x-python",
   "name": "python",
   "nbconvert_exporter": "python",
   "pygments_lexer": "ipython3",
   "version": "3.8.5"
  }
 },
 "nbformat": 4,
 "nbformat_minor": 4
}
