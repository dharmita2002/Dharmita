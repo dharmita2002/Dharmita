{
 "cells": [
  {
   "cell_type": "code",
   "execution_count": 3,
   "metadata": {},
   "outputs": [
    {
     "name": "stdout",
     "output_type": "stream",
     "text": [
      "Element not found\n"
     ]
    }
   ],
   "source": [
    "def findElement(arr, a, key):\n",
    "    for i in range (a):\n",
    "        if (arr[i] == key):\n",
    "            return i\n",
    "    return -1  \n",
    "arr = [10, 15, 20, 25, 30]\n",
    "key = 50\n",
    "n = len(arr)\n",
    "index = findElement(arr, n, key)\n",
    "if index != -1:\n",
    "    print (\"Element is found at: \" + str(index + 1 ))\n",
    "else:\n",
    "    print (\"Element not found\")\n",
    "     "
   ]
  },
  {
   "cell_type": "code",
   "execution_count": 10,
   "metadata": {},
   "outputs": [
    {
     "name": "stdout",
     "output_type": "stream",
     "text": [
      "Key to be deleted:\n",
      "30\n",
      "Array after deletion\n",
      "[10, 20, 40, 50]\n"
     ]
    }
   ],
   "source": [
    "arr = [10, 20, 30, 40, 50]\n",
    "key = 30  \n",
    "print(\"Key to be deleted:\")\n",
    "print(key)\n",
    "arr.remove(key)\n",
    "print(\"Array after deletion\")\n",
    "print(arr)"
   ]
  },
  {
   "cell_type": "code",
   "execution_count": 1,
   "metadata": {},
   "outputs": [
    {
     "name": "stdout",
     "output_type": "stream",
     "text": [
      "After Inserting: \n",
      "[12, 16, 20, 40, 50, 70, 26]\n"
     ]
    }
   ],
   "source": [
    "def insert(arr, element):\n",
    "    arr.append(element)\n",
    "arr = [12, 16, 20, 40, 50, 70]\n",
    "key = 26 \n",
    "insert(arr, key)\n",
    "print(\"After Inserting: \")\n",
    "print (arr)"
   ]
  }
 ],
 "metadata": {
  "kernelspec": {
   "display_name": "Python 3",
   "language": "python",
   "name": "python3"
  },
  "language_info": {
   "codemirror_mode": {
    "name": "ipython",
    "version": 3
   },
   "file_extension": ".py",
   "mimetype": "text/x-python",
   "name": "python",
   "nbconvert_exporter": "python",
   "pygments_lexer": "ipython3",
   "version": "3.8.5"
  }
 },
 "nbformat": 4,
 "nbformat_minor": 4
}
